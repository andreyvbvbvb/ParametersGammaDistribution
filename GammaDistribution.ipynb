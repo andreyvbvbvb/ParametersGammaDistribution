{
 "cells": [
  {
   "cell_type": "code",
   "execution_count": 140,
   "id": "8496e0f9",
   "metadata": {},
   "outputs": [],
   "source": [
    "import pandas as pd\n",
    "import seaborn as sns\n",
    "import numpy as np\n",
    "import scipy.stats as sps\n",
    "import matplotlib.pyplot as plt\n",
    "import scipy as sp\n",
    "import scipy.optimize as spop"
   ]
  },
  {
   "cell_type": "code",
   "execution_count": 141,
   "id": "26431db0",
   "metadata": {},
   "outputs": [],
   "source": [
    "df = pd.read_csv('part 2. input.csv', header=None)\n",
    "data = pd.DataFrame()\n",
    "data[0] = df[0]"
   ]
  },
  {
   "cell_type": "code",
   "execution_count": 142,
   "id": "4c7b1eb3",
   "metadata": {},
   "outputs": [
    {
     "data": {
      "text/plain": [
       "0      5.106368\n",
       "1      4.132983\n",
       "2      3.997726\n",
       "3      3.997749\n",
       "4      7.098298\n",
       "         ...   \n",
       "495    3.546340\n",
       "496    3.570249\n",
       "497    5.333346\n",
       "498    7.033640\n",
       "499    7.550757\n",
       "Name: 0, Length: 500, dtype: float64"
      ]
     },
     "execution_count": 142,
     "metadata": {},
     "output_type": "execute_result"
    }
   ],
   "source": [
    "data[0]"
   ]
  },
  {
   "cell_type": "code",
   "execution_count": 143,
   "id": "7aebb8b2",
   "metadata": {},
   "outputs": [
    {
     "data": {
      "text/plain": [
       "0       1.099083\n",
       "1       1.452437\n",
       "2       1.825481\n",
       "3       1.898599\n",
       "4       1.934457\n",
       "         ...    \n",
       "495     8.608691\n",
       "496     8.711368\n",
       "497     9.064404\n",
       "498     9.332110\n",
       "499    12.838062\n",
       "Name: 0, Length: 500, dtype: float64"
      ]
     },
     "execution_count": 143,
     "metadata": {},
     "output_type": "execute_result"
    }
   ],
   "source": [
    "data['rank']=(data[0].rank(method='first'))/(len(data))\n",
    "data=data.sort_values(by='rank').reset_index(drop=True)\n",
    "data[0]"
   ]
  },
  {
   "cell_type": "code",
   "execution_count": 144,
   "id": "e9eab110",
   "metadata": {},
   "outputs": [
    {
     "data": {
      "text/plain": [
       "[<matplotlib.lines.Line2D at 0x282747190>]"
      ]
     },
     "execution_count": 144,
     "metadata": {},
     "output_type": "execute_result"
    },
    {
     "data": {
      "image/png": "[encoded data removed]",
      "text/plain": [
       "<Figure size 640x480 with 1 Axes>"
      ]
     },
     "metadata": {},
     "output_type": "display_data"
    }
   ],
   "source": [
    "#plt.plot(data[0])"
   ]
  },
  {
   "cell_type": "code",
   "execution_count": 145,
   "id": "3fe1d2d8",
   "metadata": {},
   "outputs": [
    {
     "name": "stdout",
     "output_type": "stream",
     "text": [
      "4.516165076902346 2.1714300417278136\n"
     ]
    }
   ],
   "source": [
    "mean = np.average(data[0])\n",
    "var = (np.std(data[0]))**2\n",
    "print(mean, var)"
   ]
  },
  {
   "cell_type": "code",
   "execution_count": 146,
   "id": "b63b8082",
   "metadata": {},
   "outputs": [],
   "source": [
    "def fun(k):\n",
    "    return -np.sum(np.log(((1/(sp.special.gamma(k[0])*(k[1]**k[0]))*(data[0]**(k[0]-1))*np.exp(-data[0]/k[1])))))"
   ]
  },
  {
   "cell_type": "code",
   "execution_count": 147,
   "id": "4b028a09",
   "metadata": {},
   "outputs": [
    {
     "name": "stderr",
     "output_type": "stream",
     "text": [
      "/Library/Frameworks/Python.framework/Versions/3.11/lib/python3.11/site-packages/pandas/core/arraylike.py:396: RuntimeWarning: divide by zero encountered in log\n",
      "  result = getattr(ufunc, method)(*inputs, **kwargs)\n",
      "/Library/Frameworks/Python.framework/Versions/3.11/lib/python3.11/site-packages/scipy/optimize/_optimize.py:404: RuntimeWarning: Values in x were outside bounds during a minimize step, clipping to bounds\n",
      "  warnings.warn(\"Values in x were outside bounds during a \"\n"
     ]
    }
   ],
   "source": [
    "res = spop.minimize(fun, [mean, var], method='SLSQP', bounds=((0.000001, None), (0.000001, None)))"
   ]
  },
  {
   "cell_type": "code",
   "execution_count": 148,
   "id": "c94c66f6",
   "metadata": {},
   "outputs": [
    {
     "name": "stdout",
     "output_type": "stream",
     "text": [
      " message: Optimization terminated successfully\n",
      " success: True\n",
      "  status: 0\n",
      "     fun: 879.4929659680913\n",
      "       x: [ 9.622e+00  4.693e-01]\n",
      "     nit: 23\n",
      "     jac: [-1.793e-03 -1.778e-02]\n",
      "    nfev: 79\n",
      "    njev: 23\n"
     ]
    }
   ],
   "source": [
    "print(res)"
   ]
  },
  {
   "cell_type": "code",
   "execution_count": 149,
   "id": "f9dcd8f5",
   "metadata": {},
   "outputs": [
    {
     "name": "stdout",
     "output_type": "stream",
     "text": [
      "9.622405200123358 0.4693376635129099\n"
     ]
    }
   ],
   "source": [
    "mean = res.x[0]\n",
    "var = res.x[1]"
   ]
  },
  {
   "cell_type": "code",
   "execution_count": 150,
   "id": "a6c52e00",
   "metadata": {},
   "outputs": [
    {
     "data": {
      "text/plain": [
       "0      0.000293\n",
       "1      0.002207\n",
       "2      0.009948\n",
       "3      0.012681\n",
       "4      0.014210\n",
       "         ...   \n",
       "495    0.990432\n",
       "496    0.991552\n",
       "497    0.994534\n",
       "498    0.996100\n",
       "499    0.999970\n",
       "Name: gamma, Length: 500, dtype: float64"
      ]
     },
     "execution_count": 150,
     "metadata": {},
     "output_type": "execute_result"
    }
   ],
   "source": [
    "data['gamma'] = sps.gamma.cdf (data[0], a= mean , scale=var)\n",
    "data['gamma']"
   ]
  },
  {
   "cell_type": "code",
   "execution_count": 151,
   "id": "87f8d086",
   "metadata": {},
   "outputs": [
    {
     "name": "stdout",
     "output_type": "stream",
     "text": [
      "0      0.000293\n",
      "1      0.002207\n",
      "2      0.009948\n",
      "3      0.012681\n",
      "4      0.014210\n",
      "         ...   \n",
      "495    0.990432\n",
      "496    0.991552\n",
      "497    0.994534\n",
      "498    0.996100\n",
      "499    0.999970\n",
      "Name: gamma, Length: 500, dtype: float64\n",
      "0.021881103474203634 0.7871067920799683\n"
     ]
    }
   ],
   "source": [
    "KS_array = abs(data['rank']-data['gamma'])\n",
    "KS = max(KS_array)\n",
    "\n",
    "KS_p = np.exp(-KS**2*len(data))"
   ]
  },
  {
   "cell_type": "code",
   "execution_count": 139,
   "id": "7097d481",
   "metadata": {},
   "outputs": [
    {
     "data": {
      "image/png": "[encoded data removed]",
      "text/plain": [
       "<Figure size 640x480 with 1 Axes>"
      ]
     },
     "metadata": {},
     "output_type": "display_data"
    }
   ],
   "source": [
    "#plt.figure('gamma')\n",
    "#plt.plot(data[0], data['rank'])\n",
    "#plt.plot(data[0], data['gamma'])\n",
    "#plt.show()\n",
    "print(mean, var)"
   ]
  },
  {
   "cell_type": "code",
   "execution_count": null,
   "id": "d496e91f",
   "metadata": {},
   "outputs": [],
   "source": []
  }
 ],
 "metadata": {
  "kernelspec": {
   "display_name": "Python 3 (ipykernel)",
   "language": "python",
   "name": "python3"
  },
  "language_info": {
   "codemirror_mode": {
    "name": "ipython",
    "version": 3
   },
   "file_extension": ".py",
   "mimetype": "text/x-python",
   "name": "python",
   "nbconvert_exporter": "python",
   "pygments_lexer": "ipython3",
   "version": "3.11.4"
  }
 },
 "nbformat": 4,
 "nbformat_minor": 5
}
